{
 "cells": [
  {
   "cell_type": "code",
   "execution_count": 1,
   "id": "d5f52036",
   "metadata": {},
   "outputs": [],
   "source": [
    "import spotipy\n",
    "import webbrowser\n",
    "import json\n",
    "import urllib.request\n",
    "import geocoder\n",
    "from nltk.corpus import stopwords\n",
    "import spotipy.util as util\n",
    "import random"
   ]
  },
  {
   "cell_type": "code",
   "execution_count": 2,
   "id": "089728a5",
   "metadata": {},
   "outputs": [],
   "source": [
    "# the variable key now contains my API key\n",
    "with open(\"newskey.txt\", \"r\") as file:\n",
    "    key = file.read()"
   ]
  },
  {
   "cell_type": "code",
   "execution_count": 3,
   "id": "63bd7e06",
   "metadata": {},
   "outputs": [],
   "source": [
    "url = ('https://newsapi.org/v2/top-headlines?country=us&apiKey='  + key)\n",
    "request = urllib.request.Request(url)\n",
    "response = urllib.request.urlopen(request)"
   ]
  },
  {
   "cell_type": "code",
   "execution_count": 4,
   "id": "3018de10",
   "metadata": {},
   "outputs": [],
   "source": [
    "# converting the HTTPResponse onject to a python dictionary\n",
    "headlines = json.loads(response.read())"
   ]
  },
  {
   "cell_type": "code",
   "execution_count": 6,
   "id": "3a4eb9ed",
   "metadata": {},
   "outputs": [],
   "source": [
    "article_titles = []\n",
    "for headline in headlines['articles']:\n",
    "    article_titles.append(headline['title'])"
   ]
  },
  {
   "cell_type": "code",
   "execution_count": 7,
   "id": "29218ce5",
   "metadata": {},
   "outputs": [
    {
     "data": {
      "text/plain": [
       "['150+ best Cyber Monday deals of 2022 — from Amazon to Zappos - Yahoo Life',\n",
       " 'Pilot, passenger rescued from plane that crashed into power lines in Montgomery Co. - WTOP',\n",
       " \"Mauna Loa is erupting for the first time since 1984, prompting an ashfall advisory for Hawaii's Big Island - CNN\",\n",
       " 'Nearly 9 out of 10 covid deaths are people over 65 - The Washington Post',\n",
       " 'Police officer killed in CA after catfishing girl, killing family - USA TODAY',\n",
       " 'Eagles vs. Packers score, takeaways: Jalen Hurts dominates as Philly earns 10th win; Aaron Rodgers injured - CBS Sports',\n",
       " 'Apple to Lose 6 Million iPhone Pros From Tumult at China Plant - Bloomberg',\n",
       " \"Arkansas GOP governor says Trump's meeting with Holocaust denier is 'very troubling' and 'empowering' for extremism - CNN\",\n",
       " \"Helen Mirren and Harrison Ford star in explosive trailer for 'Yellowstone' prequel '1923' - CNN\",\n",
       " 'Green Sprouts issues recall for 10500 bottles and cups - WFAA',\n",
       " \"First lady Jill Biden chooses 'We the People' as theme for White House holiday decorations - CNN\",\n",
       " \"Bob Dylan apologises for machine-printed 'signatures' - BBC\",\n",
       " 'LIST: Houston school districts closed due to citywide boil water notice - KHOU.com',\n",
       " 'Improve memory as you age by eating more flavonols, study says - CNN',\n",
       " 'China says BBC reporter did not identify himself as a journalist - Reuters',\n",
       " 'Exclusive: U.S. weighs sending 100-mile strike weapon to Ukraine - Reuters',\n",
       " 'China eases COVID rules after protests, keeps wider strategy - The Associated Press - en Español',\n",
       " 'Kim Kardashian breaks silence on controversial Balenciaga kids ad campaign - Page Six']"
      ]
     },
     "execution_count": 7,
     "metadata": {},
     "output_type": "execute_result"
    }
   ],
   "source": [
    "article_titles"
   ]
  },
  {
   "cell_type": "code",
   "execution_count": 8,
   "id": "1ce4a713",
   "metadata": {},
   "outputs": [
    {
     "name": "stdout",
     "output_type": "stream",
     "text": [
      "150+ best Cyber Monday deals of 2022 — from Amazon to Zappos - Yahoo Life\n",
      "Pilot, passenger rescued from plane that crashed into power lines in Montgomery Co. - WTOP\n",
      "Mauna Loa is erupting for the first time since 1984, prompting an ashfall advisory for Hawaii's Big Island - CNN\n",
      "Nearly 9 out of 10 covid deaths are people over 65 - The Washington Post\n",
      "Police officer killed in CA after catfishing girl, killing family - USA TODAY\n",
      "Eagles vs. Packers score, takeaways: Jalen Hurts dominates as Philly earns 10th win; Aaron Rodgers injured - CBS Sports\n",
      "Apple to Lose 6 Million iPhone Pros From Tumult at China Plant - Bloomberg\n",
      "Arkansas GOP governor says Trump's meeting with Holocaust denier is 'very troubling' and 'empowering' for extremism - CNN\n",
      "Helen Mirren and Harrison Ford star in explosive trailer for 'Yellowstone' prequel '1923' - CNN\n",
      "Green Sprouts issues recall for 10500 bottles and cups - WFAA\n",
      "First lady Jill Biden chooses 'We the People' as theme for White House holiday decorations - CNN\n",
      "Bob Dylan apologises for machine-printed 'signatures' - BBC\n",
      "LIST: Houston school districts closed due to citywide boil water notice - KHOU.com\n",
      "Improve memory as you age by eating more flavonols, study says - CNN\n",
      "China says BBC reporter did not identify himself as a journalist - Reuters\n",
      "Exclusive: U.S. weighs sending 100-mile strike weapon to Ukraine - Reuters\n",
      "China eases COVID rules after protests, keeps wider strategy - The Associated Press - en Español\n",
      "Kim Kardashian breaks silence on controversial Balenciaga kids ad campaign - Page Six\n"
     ]
    }
   ],
   "source": [
    "# go througheach title/headline\n",
    "for headline in article_titles:\n",
    "    print(headline)"
   ]
  },
  {
   "cell_type": "code",
   "execution_count": 16,
   "id": "e721dfb1",
   "metadata": {},
   "outputs": [
    {
     "name": "stdout",
     "output_type": "stream",
     "text": [
      "best\n",
      "cyber\n",
      "monday\n",
      "deals\n",
      "amazon\n",
      "zappos\n",
      "yahoo\n",
      "life\n"
     ]
    }
   ],
   "source": [
    "article_titles[0]\n",
    "for word in article_titles[0].lower().split(\" \"):\n",
    "    if word not in stopwords.words('english') and word.isalpha():\n",
    "        print(word)"
   ]
  },
  {
   "cell_type": "code",
   "execution_count": 23,
   "id": "c9382812",
   "metadata": {},
   "outputs": [],
   "source": [
    "dict_of_words = {}\n",
    "#go through each title\n",
    "for title in article_titles:\n",
    "    #go through each word\n",
    "    for word in title.lower().split(\" \"):\n",
    "        # is the word not a stopword?\n",
    "        # is the word not a number?\n",
    "        if word not in stopwords.words('english') and word.isalpha():\n",
    "            if word in dict_of_words:\n",
    "                dict_of_words[word] +=1\n",
    "            else:\n",
    "                dict_of_words[word] =1"
   ]
  },
  {
   "cell_type": "code",
   "execution_count": 24,
   "id": "e4d74c13",
   "metadata": {},
   "outputs": [
    {
     "data": {
      "text/plain": [
       "{'best': 1,\n",
       " 'cyber': 1,\n",
       " 'monday': 1,\n",
       " 'deals': 1,\n",
       " 'amazon': 1,\n",
       " 'zappos': 1,\n",
       " 'yahoo': 1,\n",
       " 'life': 1,\n",
       " 'passenger': 1,\n",
       " 'rescued': 1,\n",
       " 'plane': 1,\n",
       " 'crashed': 1,\n",
       " 'power': 1,\n",
       " 'lines': 1,\n",
       " 'montgomery': 1,\n",
       " 'wtop': 1,\n",
       " 'mauna': 1,\n",
       " 'loa': 1,\n",
       " 'erupting': 1,\n",
       " 'first': 2,\n",
       " 'time': 1,\n",
       " 'since': 1,\n",
       " 'prompting': 1,\n",
       " 'ashfall': 1,\n",
       " 'advisory': 1,\n",
       " 'big': 1,\n",
       " 'island': 1,\n",
       " 'cnn': 5,\n",
       " 'nearly': 1,\n",
       " 'covid': 2,\n",
       " 'deaths': 1,\n",
       " 'people': 1,\n",
       " 'washington': 1,\n",
       " 'post': 1,\n",
       " 'police': 1,\n",
       " 'officer': 1,\n",
       " 'killed': 1,\n",
       " 'ca': 1,\n",
       " 'catfishing': 1,\n",
       " 'killing': 1,\n",
       " 'family': 1,\n",
       " 'usa': 1,\n",
       " 'today': 1,\n",
       " 'eagles': 1,\n",
       " 'packers': 1,\n",
       " 'jalen': 1,\n",
       " 'hurts': 1,\n",
       " 'dominates': 1,\n",
       " 'philly': 1,\n",
       " 'earns': 1,\n",
       " 'aaron': 1,\n",
       " 'rodgers': 1,\n",
       " 'injured': 1,\n",
       " 'cbs': 1,\n",
       " 'sports': 1,\n",
       " 'apple': 1,\n",
       " 'lose': 1,\n",
       " 'million': 1,\n",
       " 'iphone': 1,\n",
       " 'pros': 1,\n",
       " 'tumult': 1,\n",
       " 'china': 3,\n",
       " 'plant': 1,\n",
       " 'bloomberg': 1,\n",
       " 'arkansas': 1,\n",
       " 'gop': 1,\n",
       " 'governor': 1,\n",
       " 'says': 3,\n",
       " 'meeting': 1,\n",
       " 'holocaust': 1,\n",
       " 'denier': 1,\n",
       " 'extremism': 1,\n",
       " 'helen': 1,\n",
       " 'mirren': 1,\n",
       " 'harrison': 1,\n",
       " 'ford': 1,\n",
       " 'star': 1,\n",
       " 'explosive': 1,\n",
       " 'trailer': 1,\n",
       " 'prequel': 1,\n",
       " 'green': 1,\n",
       " 'sprouts': 1,\n",
       " 'issues': 1,\n",
       " 'recall': 1,\n",
       " 'bottles': 1,\n",
       " 'cups': 1,\n",
       " 'wfaa': 1,\n",
       " 'lady': 1,\n",
       " 'jill': 1,\n",
       " 'biden': 1,\n",
       " 'chooses': 1,\n",
       " 'theme': 1,\n",
       " 'white': 1,\n",
       " 'house': 1,\n",
       " 'holiday': 1,\n",
       " 'decorations': 1,\n",
       " 'bob': 1,\n",
       " 'dylan': 1,\n",
       " 'apologises': 1,\n",
       " 'bbc': 2,\n",
       " 'houston': 1,\n",
       " 'school': 1,\n",
       " 'districts': 1,\n",
       " 'closed': 1,\n",
       " 'due': 1,\n",
       " 'citywide': 1,\n",
       " 'boil': 1,\n",
       " 'water': 1,\n",
       " 'notice': 1,\n",
       " 'improve': 1,\n",
       " 'memory': 1,\n",
       " 'age': 1,\n",
       " 'eating': 1,\n",
       " 'study': 1,\n",
       " 'reporter': 1,\n",
       " 'identify': 1,\n",
       " 'journalist': 1,\n",
       " 'reuters': 2,\n",
       " 'weighs': 1,\n",
       " 'sending': 1,\n",
       " 'strike': 1,\n",
       " 'weapon': 1,\n",
       " 'ukraine': 1,\n",
       " 'eases': 1,\n",
       " 'rules': 1,\n",
       " 'keeps': 1,\n",
       " 'wider': 1,\n",
       " 'strategy': 1,\n",
       " 'associated': 1,\n",
       " 'press': 1,\n",
       " 'en': 1,\n",
       " 'español': 1,\n",
       " 'kim': 1,\n",
       " 'kardashian': 1,\n",
       " 'breaks': 1,\n",
       " 'silence': 1,\n",
       " 'controversial': 1,\n",
       " 'balenciaga': 1,\n",
       " 'kids': 1,\n",
       " 'ad': 1,\n",
       " 'campaign': 1,\n",
       " 'page': 1,\n",
       " 'six': 1}"
      ]
     },
     "execution_count": 24,
     "metadata": {},
     "output_type": "execute_result"
    }
   ],
   "source": [
    "dict_of_words"
   ]
  },
  {
   "cell_type": "code",
   "execution_count": null,
   "id": "0f280cd0",
   "metadata": {},
   "outputs": [],
   "source": []
  }
 ],
 "metadata": {
  "kernelspec": {
   "display_name": "Python 3 (ipykernel)",
   "language": "python",
   "name": "python3"
  },
  "language_info": {
   "codemirror_mode": {
    "name": "ipython",
    "version": 3
   },
   "file_extension": ".py",
   "mimetype": "text/x-python",
   "name": "python",
   "nbconvert_exporter": "python",
   "pygments_lexer": "ipython3",
   "version": "3.11.0"
  }
 },
 "nbformat": 4,
 "nbformat_minor": 5
}
